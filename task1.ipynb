{
 "cells": [
  {
   "cell_type": "code",
   "execution_count": null,
   "metadata": {},
   "outputs": [],
   "source": [
    "l_char=[]\n",
    "l_num=[]\n",
    "for i in l1:\n",
    "  if type(i)==str:\n",
    "    l_char.append(i)\n",
    "  else:\n",
    "    l_num.append(i)\n",
    "\n",
    "print(l_char)\n",
    "print(l_num)"
   ]
  }
 ],
 "metadata": {
  "language_info": {
   "name": "python"
  }
 },
 "nbformat": 4,
 "nbformat_minor": 2
}
