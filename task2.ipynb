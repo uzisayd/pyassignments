{
 "cells": [
  {
   "cell_type": "code",
   "execution_count": 1,
   "metadata": {},
   "outputs": [
    {
     "name": "stdout",
     "output_type": "stream",
     "text": [
      "Task for 2025-01-21: swim\n",
      "Task for 2025-01-22: swim\n",
      "Task for 2025-01-23: swim\n",
      "Task for 2025-01-24: swim\n",
      "2025-01-25 is a weekend. No task assigned.\n",
      "2025-01-26 is a weekend. No task assigned.\n",
      "Task for 2025-01-27: swim\n",
      "Task for 2025-01-28: swim\n"
     ]
    }
   ],
   "source": [
    "from datetime import datetime,timedelta\n",
    "\n",
    "start = input(\"Enter the start date (YYYY-MM-DD): \")\n",
    "end = input(\"Enter the end date (YYYY-MM-DD): \")\n",
    "\n",
    "start = datetime.strptime(start, \"%Y-%m-%d\")\n",
    "end = datetime.strptime(end, \"%Y-%m-%d\")\n",
    "\n",
    "today = start\n",
    "while today <= end:\n",
    "    if today.weekday() < 5:\n",
    "        task = input(f\"Enter task for {today.strftime('%Y-%m-%d')}: \")\n",
    "        print(f\"Task for {today.strftime('%Y-%m-%d')}: {task}\")\n",
    "    else:\n",
    "        print(f\"{today.strftime('%Y-%m-%d')} is a weekend. No task assigned.\")\n",
    "    today += timedelta(days=1)\n"
   ]
  }
 ],
 "metadata": {
  "kernelspec": {
   "display_name": "Python 3",
   "language": "python",
   "name": "python3"
  },
  "language_info": {
   "codemirror_mode": {
    "name": "ipython",
    "version": 3
   },
   "file_extension": ".py",
   "mimetype": "text/x-python",
   "name": "python",
   "nbconvert_exporter": "python",
   "pygments_lexer": "ipython3",
   "version": "3.11.9"
  }
 },
 "nbformat": 4,
 "nbformat_minor": 2
}
