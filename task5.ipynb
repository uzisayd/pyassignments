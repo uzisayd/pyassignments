{
 "cells": [
  {
   "cell_type": "code",
   "execution_count": 1,
   "metadata": {},
   "outputs": [
    {
     "name": "stdout",
     "output_type": "stream",
     "text": [
      "\n",
      "-------------------------------------------------\n",
      "\n",
      "Checikng details\n",
      "Incorrect entry.Only alphabets are allowed.\n",
      "Inorrect DOB.Check format and date.\n",
      "Incorrect mobile number.It should start with 6/7/8/9 and should be 10 digits.\n",
      "Incorrect email address.Only @ and .com are allowed.\n",
      "Incorrect ID. Should be a 5 digit number.\n",
      "Address cannot be empty.\n",
      "Invalid gender. Must be 'male', 'female', or 'other'.\n",
      "Customer details are invalid!\n",
      "\n",
      "-----------------------------------------\n",
      "\n",
      "Checking details\n",
      "Incorrect customer ID.\n",
      "Incorrect number of people.\n",
      "Service details are invalid!\n",
      "\n",
      "------------------------------------\n"
     ]
    }
   ],
   "source": [
    "import re\n",
    "from datetime import datetime\n",
    "validate_Name = lambda Name: re.match(\"^[A-z]*[a-z]$\", Name)\n",
    "validate_DOB = lambda DOB: re.match(\"^[0-9]{2}-[0-9]{2}-[0-9]{4}$\", DOB) and datetime.strptime(DOB, \"%d-%m-%Y\") < datetime.now()\n",
    "validate_mobileno = lambda mobileno: re.match(\"^[6-9][0-9]{9}$\", mobileno)\n",
    "validate_emailid = lambda emailid: re.match(\"^[a-z][a-zA-Z0-9._]*@[a-z]*.com$\", emailid)\n",
    "validate_customerid = lambda customerid: re.match(\"^[1-9][0-9]{4}$\", customerid)\n",
    "validate_add = lambda add: len(add.strip()) > 0\n",
    "validate_gender = lambda gender: gender in [\"male\", \"female\", \"other\"]\n",
    "validate_noofpeople = lambda noofpeople: re.match(\"^[1-9][0-2]$\", noofpeople)\n",
    "\n",
    "print(\"\\n-------------------------------------------------\")\n",
    "print(\"\\nChecikng details\")\n",
    "\n",
    "customer_valid = True\n",
    "\n",
    "if not validate_Name(input(\"Enter your name: \")):\n",
    "    print(\"Incorrect entry.Only alphabets are allowed.\")\n",
    "    customer_valid = False\n",
    "if not validate_DOB(input(\"Enter the date of birth in (DD-MM-YYYY) format: \")):\n",
    "    print(\"Inorrect DOB.Check format and date.\")\n",
    "    customer_valid = False\n",
    "if not validate_mobileno(input(\"Enter your mob number: \")):\n",
    "    print(\"Incorrect mobile number.It should start with 6/7/8/9 and should be 10 digits.\")\n",
    "    customer_valid = False\n",
    "if not validate_emailid(input(\"Enter your emailid: \")):\n",
    "    print(\"Incorrect email address.Only @ and .com are allowed.\")\n",
    "    customer_valid = False\n",
    "if not validate_customerid(input(\"Enter your customer ID: \")):\n",
    "    print(\"Incorrect ID. Should be a 5 digit number.\")\n",
    "    customer_valid = False\n",
    "if not validate_add(input(\"Enter address: \")):\n",
    "    print(\"Address cannot be empty.\")\n",
    "    customer_valid = False\n",
    "if not validate_gender(input(\"Enter gender (male/female/other): \")):\n",
    "    print(\"Invalid gender. Must be 'male', 'female', or 'other'.\")\n",
    "    customer_valid = False\n",
    "\n",
    "if customer_valid:\n",
    "    print(\"Customer details are valid!\")\n",
    "else:\n",
    "    print(\"Customer details are invalid!\")\n",
    "\n",
    "print(\"\\n-----------------------------------------\")\n",
    "print(\"\\nChecking details\")\n",
    "\n",
    "service_valid = True\n",
    "\n",
    "if not validate_customerid(input(\"Re-enter customer ID: \")):\n",
    "    print(\"Incorrect customer ID.\")\n",
    "    service_valid = False\n",
    "if not validate_noofpeople(input(\"Enter the  number of people (Maximum 12): \")):\n",
    "    print(\"Incorrect number of people.\")\n",
    "    service_valid = False\n",
    "\n",
    "if service_valid:\n",
    "    print(\"Service details are valid!\")\n",
    "else:\n",
    "    print(\"Service details are invalid!\")\n",
    "\n",
    "print(\"\\n------------------------------------\")\n"
   ]
  },
  {
   "cell_type": "code",
   "execution_count": null,
   "metadata": {},
   "outputs": [],
   "source": []
  }
 ],
 "metadata": {
  "kernelspec": {
   "display_name": "Python 3",
   "language": "python",
   "name": "python3"
  },
  "language_info": {
   "codemirror_mode": {
    "name": "ipython",
    "version": 3
   },
   "file_extension": ".py",
   "mimetype": "text/x-python",
   "name": "python",
   "nbconvert_exporter": "python",
   "pygments_lexer": "ipython3",
   "version": "3.11.9"
  }
 },
 "nbformat": 4,
 "nbformat_minor": 2
}
