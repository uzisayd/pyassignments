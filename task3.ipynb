{
 "cells": [
  {
   "cell_type": "code",
   "execution_count": 2,
   "metadata": {},
   "outputs": [
    {
     "name": "stdout",
     "output_type": "stream",
     "text": [
      "=============================================\n",
      "Item           Qty       Price     Total     \n",
      "=============================================\n",
      "panipuri       1         50.00     50.00     \n",
      "sevpuri        1         70.00     70.00     \n",
      "dabeli         1         30.00     30.00     \n",
      "=============================================\n",
      "Total Bill                         150.00    \n",
      "=============================================\n"
     ]
    }
   ],
   "source": [
    "items = [(\"panipuri\", 1, 50.00), (\"sevpuri\", 1, 70.00), (\"dabeli\", 1, 30.00)]\n",
    "\n",
    "print(\"=\" * 45)\n",
    "print(f\"{'Item':<15}{'Qty':<10}{'Price':<10}{'Total':<10}\")\n",
    "print(\"=\" * 45)\n",
    "total = 0\n",
    "for name, qty, price in items:\n",
    "    item_total = qty * price\n",
    "    total += item_total\n",
    "    print(f\"{name:<15}{qty:<10}{price:<10.2f}{item_total:<10.2f}\")\n",
    "print(\"=\" * 45)\n",
    "print(f\"{'Total Bill':<35}{total:<10.2f}\")\n",
    "print(\"=\" * 45)\n"
   ]
  },
  {
   "cell_type": "code",
   "execution_count": null,
   "metadata": {},
   "outputs": [],
   "source": []
  }
 ],
 "metadata": {
  "kernelspec": {
   "display_name": "Python 3",
   "language": "python",
   "name": "python3"
  },
  "language_info": {
   "codemirror_mode": {
    "name": "ipython",
    "version": 3
   },
   "file_extension": ".py",
   "mimetype": "text/x-python",
   "name": "python",
   "nbconvert_exporter": "python",
   "pygments_lexer": "ipython3",
   "version": "3.11.9"
  }
 },
 "nbformat": 4,
 "nbformat_minor": 2
}
